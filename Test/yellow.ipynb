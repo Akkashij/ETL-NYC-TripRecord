{
 "cells": [
  {
   "cell_type": "code",
   "execution_count": 15,
   "metadata": {},
   "outputs": [],
   "source": [
    "import os\n",
    "from dagster import asset, AssetIn, Output, WeeklyPartitionsDefinition\n",
    "import pandas as pd\n",
    "from pyspark.sql.dataframe import DataFrame\n",
    "from pyspark.sql import SparkSession\n",
    "from pyspark.sql.functions import monotonically_increasing_id, lit, concat"
   ]
  },
  {
   "cell_type": "code",
   "execution_count": 3,
   "metadata": {},
   "outputs": [
    {
     "name": "stderr",
     "output_type": "stream",
     "text": [
      "23/12/14 16:17:34 WARN Utils: Your hostname, TrungUbun resolves to a loopback address: 127.0.1.1; using 192.168.1.6 instead (on interface enp3s0)\n",
      "23/12/14 16:17:34 WARN Utils: Set SPARK_LOCAL_IP if you need to bind to another address\n",
      "Setting default log level to \"WARN\".\n",
      "To adjust logging level use sc.setLogLevel(newLevel). For SparkR, use setLogLevel(newLevel).\n",
      "23/12/14 16:17:37 WARN NativeCodeLoader: Unable to load native-hadoop library for your platform... using builtin-java classes where applicable\n",
      "23/12/14 16:17:40 WARN Utils: Service 'SparkUI' could not bind on port 4040. Attempting port 4041.\n"
     ]
    }
   ],
   "source": [
    "spark = SparkSession.builder.master(\"local[*]\").getOrCreate()"
   ]
  },
  {
   "cell_type": "code",
   "execution_count": 11,
   "metadata": {},
   "outputs": [
    {
     "name": "stderr",
     "output_type": "stream",
     "text": [
      "                                                                                \r"
     ]
    },
    {
     "name": "stdout",
     "output_type": "stream",
     "text": [
      "+---+--------+--------------------+---------------------+------------------+----------+------------+------------+---------------+-------------+-----------+-----+-------+----------+------------+---------+---------------------+------------+------------+---------+--------------------+\n",
      "|_c0|VendorID|lpep_pickup_datetime|lpep_dropoff_datetime|store_and_fwd_flag|RatecodeID|PULocationID|DOLocationID|passenger_count|trip_distance|fare_amount|extra|mta_tax|tip_amount|tolls_amount|ehail_fee|improvement_surcharge|total_amount|payment_type|trip_type|congestion_surcharge|\n",
      "+---+--------+--------------------+---------------------+------------------+----------+------------+------------+---------------+-------------+-----------+-----+-------+----------+------------+---------+---------------------+------------+------------+---------+--------------------+\n",
      "|  0|       2| 2023-01-01 00:26:10|  2023-01-01 00:37:11|                 N|       1.0|         166|         143|            1.0|         2.58|       14.9|  1.0|    0.5|      4.03|         0.0|     NULL|                  1.0|       24.18|         1.0|      1.0|                2.75|\n",
      "|  1|       2| 2023-01-01 00:51:03|  2023-01-01 00:57:49|                 N|       1.0|          24|          43|            1.0|         1.81|       10.7|  1.0|    0.5|      2.64|         0.0|     NULL|                  1.0|       15.84|         1.0|      1.0|                 0.0|\n",
      "|  2|       2| 2023-01-01 00:35:12|  2023-01-01 00:41:32|                 N|       1.0|         223|         179|            1.0|          0.0|        7.2|  1.0|    0.5|      1.94|         0.0|     NULL|                  1.0|       11.64|         1.0|      1.0|                 0.0|\n",
      "|  3|       1| 2023-01-01 00:13:14|  2023-01-01 00:19:03|                 N|       1.0|          41|         238|            1.0|          1.3|        6.5|  0.5|    1.5|       1.7|         0.0|     NULL|                  1.0|        10.2|         1.0|      1.0|                 0.0|\n",
      "|  4|       1| 2023-01-01 00:33:04|  2023-01-01 00:39:02|                 N|       1.0|          41|          74|            1.0|          1.1|        6.0|  0.5|    1.5|       0.0|         0.0|     NULL|                  1.0|         8.0|         1.0|      1.0|                 0.0|\n",
      "|  5|       2| 2023-01-01 00:53:31|  2023-01-01 01:11:04|                 N|       1.0|          41|         262|            1.0|         2.78|       17.7|  1.0|    0.5|       0.0|         0.0|     NULL|                  1.0|       22.95|         2.0|      1.0|                2.75|\n",
      "|  6|       1| 2023-01-01 00:09:14|  2023-01-01 00:26:39|                 N|       1.0|         181|          45|            2.0|          3.8|       19.1| 3.75|    1.5|      4.85|         0.0|     NULL|                  1.0|        29.2|         1.0|      1.0|                2.75|\n",
      "|  7|       2| 2023-01-01 00:11:58|  2023-01-01 00:24:55|                 N|       1.0|          24|          75|            1.0|         1.88|       14.2|  1.0|    0.5|       0.0|         0.0|     NULL|                  1.0|        16.7|         2.0|      1.0|                 0.0|\n",
      "|  8|       2| 2023-01-01 00:41:29|  2023-01-01 00:46:26|                 N|       1.0|          41|         166|            2.0|         1.11|        7.2|  1.0|    0.5|       1.0|         0.0|     NULL|                  1.0|        10.7|         1.0|      1.0|                 0.0|\n",
      "|  9|       2| 2023-01-01 00:50:32|  2023-01-01 01:13:42|                 N|       1.0|          24|         140|            1.0|         4.22|       24.7|  1.0|    0.5|       3.0|         0.0|     NULL|                  1.0|       32.95|         1.0|      1.0|                2.75|\n",
      "| 10|       1| 2023-01-01 00:16:12|  2023-01-01 00:41:43|                 N|       1.0|         255|         234|            2.0|          4.8|       26.8| 3.75|    1.5|       0.0|         0.0|     NULL|                  1.0|       32.05|         1.0|      1.0|                2.75|\n",
      "| 11|       2| 2023-01-01 00:08:43|  2023-01-01 00:17:08|                 N|       1.0|          75|         140|            1.0|         1.99|       11.4|  1.0|    0.5|      3.33|         0.0|     NULL|                  1.0|       19.98|         1.0|      1.0|                2.75|\n",
      "| 12|       2| 2023-01-01 00:26:32|  2023-01-01 00:45:31|                 N|       1.0|          75|         148|            1.0|         7.08|       30.3|  1.0|    0.5|       3.0|         0.0|     NULL|                  1.0|       38.55|         1.0|      1.0|                2.75|\n",
      "| 13|       2| 2023-01-01 00:18:35|  2023-01-01 00:30:09|                 N|       1.0|          66|         255|            1.0|         3.23|       17.7|  1.0|    0.5|      4.04|         0.0|     NULL|                  1.0|       24.24|         1.0|      1.0|                 0.0|\n",
      "| 14|       2| 2023-01-01 00:39:32|  2023-01-01 01:18:06|                 N|       1.0|         255|         186|            1.0|         5.91|       35.9|  1.0|    0.5|       0.0|         0.0|     NULL|                  1.0|       41.15|         2.0|      1.0|                2.75|\n",
      "| 15|       1| 2023-01-01 00:49:34|  2023-01-01 01:08:23|                 N|       1.0|         195|         210|            1.0|         11.3|       32.5|  0.5|    1.5|       0.0|         0.0|     NULL|                  1.0|        34.5|         2.0|      1.0|                 0.0|\n",
      "| 16|       1| 2023-01-01 00:10:45|  2023-01-01 00:19:37|                 N|       5.0|          83|         129|            1.0|          1.3|       15.0|  0.0|    0.0|       0.0|         0.0|     NULL|                  0.0|        15.0|         1.0|      2.0|                 0.0|\n",
      "| 17|       2| 2023-01-01 00:35:11|  2023-01-01 01:17:35|                 N|       1.0|          97|          68|            1.0|         8.28|       44.3|  1.0|    0.5|       5.0|         0.0|     NULL|                  1.0|       54.55|         1.0|      1.0|                2.75|\n",
      "| 18|       2| 2023-01-01 00:31:06|  2023-01-01 00:42:23|                 N|       1.0|           7|         260|            1.0|         2.02|       12.8|  1.0|    0.5|       0.0|         0.0|     NULL|                  1.0|        15.3|         2.0|      1.0|                 0.0|\n",
      "| 19|       2| 2023-01-01 00:14:37|  2023-01-01 00:21:50|                 N|       1.0|          41|          75|            1.0|         0.96|        8.6|  1.0|    0.5|       0.0|         0.0|     NULL|                  1.0|        11.1|         2.0|      1.0|                 0.0|\n",
      "+---+--------+--------------------+---------------------+------------------+----------+------------+------------+---------------+-------------+-----------+-----+-------+----------+------------+---------+---------------------+------------+------------+---------+--------------------+\n",
      "only showing top 20 rows\n",
      "\n"
     ]
    },
    {
     "name": "stderr",
     "output_type": "stream",
     "text": [
      "23/12/14 16:27:13 WARN CSVHeaderChecker: CSV header does not conform to the schema.\n",
      " Header: , VendorID, lpep_pickup_datetime, lpep_dropoff_datetime, store_and_fwd_flag, RatecodeID, PULocationID, DOLocationID, passenger_count, trip_distance, fare_amount, extra, mta_tax, tip_amount, tolls_amount, ehail_fee, improvement_surcharge, total_amount, payment_type, trip_type, congestion_surcharge\n",
      " Schema: _c0, VendorID, lpep_pickup_datetime, lpep_dropoff_datetime, store_and_fwd_flag, RatecodeID, PULocationID, DOLocationID, passenger_count, trip_distance, fare_amount, extra, mta_tax, tip_amount, tolls_amount, ehail_fee, improvement_surcharge, total_amount, payment_type, trip_type, congestion_surcharge\n",
      "Expected: _c0 but found: \n",
      "CSV file: file:///home/trung/Study/KHDL/NYC-TripRecord/Test/green_tripdata_2023-01.csv\n"
     ]
    }
   ],
   "source": [
    "spark_df = spark.read.csv(\"green_tripdata_2023-01.csv\", inferSchema = True, header = True)\n",
    "spark_df.show()"
   ]
  },
  {
   "cell_type": "code",
   "execution_count": 16,
   "metadata": {},
   "outputs": [
    {
     "name": "stdout",
     "output_type": "stream",
     "text": [
      "+---------------------+------------+--------+\n",
      "|lpep_dropoff_datetime|DOLocationID|PickUpID|\n",
      "+---------------------+------------+--------+\n",
      "|  2023-01-01 00:39:24|         146|  F20230|\n",
      "|  2023-01-01 01:41:21|         140|  F20231|\n",
      "|  2023-01-01 03:06:10|          48|  F20232|\n",
      "|  2023-01-01 02:03:43|           7|  F20233|\n",
      "|  2023-01-01 07:23:19|         142|  F20234|\n",
      "|  2023-01-01 08:48:49|         223|  F20235|\n",
      "|  2023-01-01 11:40:34|          65|  F20236|\n",
      "|  2023-01-01 15:45:23|          74|  F20237|\n",
      "|  2023-01-01 21:24:19|          41|  F20238|\n",
      "|  2023-01-01 23:04:39|         243|  F20239|\n",
      "|  2023-01-02 12:25:39|         186| F202310|\n",
      "|  2023-01-02 12:05:34|          95| F202311|\n",
      "|  2023-01-02 12:21:16|         244| F202312|\n",
      "|  2023-01-02 14:11:25|         223| F202313|\n",
      "|  2023-01-02 13:34:23|         179| F202314|\n",
      "|  2023-01-02 14:24:04|         168| F202315|\n",
      "|  2023-01-02 16:07:21|         166| F202316|\n",
      "|  2023-01-02 16:16:37|         262| F202317|\n",
      "|  2023-01-03 07:27:47|          41| F202318|\n",
      "|  2023-01-03 09:30:42|          75| F202319|\n",
      "+---------------------+------------+--------+\n",
      "only showing top 20 rows\n",
      "\n"
     ]
    },
    {
     "data": {
      "text/plain": [
       "DataFrame[lpep_dropoff_datetime: timestamp, DOLocationID: int, PickUpID: string]"
      ]
     },
     "execution_count": 16,
     "metadata": {},
     "output_type": "execute_result"
    }
   ],
   "source": [
    "spark_df.cache()\n",
    "select_cols = [\"lpep_dropoff_datetime\", \"DOLocationID\"]\n",
    "spark_df = spark_df.select(select_cols)\n",
    "spark_df = spark_df.dropDuplicates(select_cols)\n",
    "specialID = concat(lit(\"F2023\"), monotonically_increasing_id())\n",
    "spark_df = spark_df.withColumn(\"PickUpID\", specialID)\n",
    "spark_df = spark_df.withColumnRenamed('tpep_dropoff_datetime','Dropoff_datetime')\n",
    "spark_df.show()\n",
    "spark_df.unpersist()"
   ]
  }
 ],
 "metadata": {
  "kernelspec": {
   "display_name": "DataE",
   "language": "python",
   "name": "python3"
  },
  "language_info": {
   "codemirror_mode": {
    "name": "ipython",
    "version": 3
   },
   "file_extension": ".py",
   "mimetype": "text/x-python",
   "name": "python",
   "nbconvert_exporter": "python",
   "pygments_lexer": "ipython3",
   "version": "3.9.17"
  }
 },
 "nbformat": 4,
 "nbformat_minor": 2
}
