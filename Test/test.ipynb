{
 "cells": [
  {
   "cell_type": "code",
   "execution_count": 2,
   "metadata": {},
   "outputs": [],
   "source": [
    "from pyspark.sql import SparkSession, DataFrame"
   ]
  },
  {
   "cell_type": "code",
   "execution_count": 3,
   "metadata": {},
   "outputs": [
    {
     "name": "stderr",
     "output_type": "stream",
     "text": [
      "23/12/20 14:40:22 WARN Utils: Your hostname, trungLap resolves to a loopback address: 127.0.1.1; using 192.168.2.232 instead (on interface wlo1)\n",
      "23/12/20 14:40:22 WARN Utils: Set SPARK_LOCAL_IP if you need to bind to another address\n",
      "23/12/20 14:40:22 WARN NativeCodeLoader: Unable to load native-hadoop library for your platform... using builtin-java classes where applicable\n",
      "Setting default log level to \"WARN\".\n",
      "To adjust logging level use sc.setLogLevel(newLevel). For SparkR, use setLogLevel(newLevel).\n",
      "23/12/20 14:40:23 WARN Utils: Service 'SparkUI' could not bind on port 4040. Attempting port 4041.\n"
     ]
    }
   ],
   "source": [
    "spark = (\n",
    "            SparkSession.builder.master(\"local[*]\")\n",
    "            .appName(\"SparkByExamples.com\")\n",
    "            .config(\"spark.jars\", \"/opt/spark/spark-3.5.0-bin-hadoop3/jars/postgresql-42.7.1.jar\")\n",
    "            .getOrCreate()\n",
    ")"
   ]
  },
  {
   "cell_type": "code",
   "execution_count": 7,
   "metadata": {},
   "outputs": [],
   "source": [
    "df = (\n",
    "        spark.read.format(\"csv\")\n",
    "        .options(header=True, inferSchema=False)\n",
    "        .load(\"/home/trungnothot/Downloads/taxi_zones.csv\")\n",
    "    )"
   ]
  },
  {
   "cell_type": "code",
   "execution_count": 4,
   "metadata": {},
   "outputs": [],
   "source": [
    "POSTGRES_HOST = \"localhost\"\n",
    "POSTGRES_PORT = 5432\n",
    "POSTGRES_DB = \"trip_record\"\n",
    "POSTGRES_USER = \"admin\"\n",
    "POSTGRES_PASSWORD = \"admin123\"\n",
    "\n",
    "jdbcDF = spark.read \\\n",
    "    .format(\"jdbc\") \\\n",
    "    .option(\"url\", f\"jdbc:postgresql://{POSTGRES_HOST}:{POSTGRES_PORT}/{POSTGRES_DB}\") \\\n",
    "    .option(\"dbtable\", \"public.warehouse_payment\") \\\n",
    "    .option(\"user\", POSTGRES_USER) \\\n",
    "    .option(\"password\", POSTGRES_PASSWORD) \\\n",
    "    .load()"
   ]
  },
  {
   "cell_type": "code",
   "execution_count": 5,
   "metadata": {},
   "outputs": [
    {
     "name": "stderr",
     "output_type": "stream",
     "text": [
      "                                                                                \r"
     ]
    },
    {
     "name": "stdout",
     "output_type": "stream",
     "text": [
      "+------------------+-------+---------------------+------------+----------+-----+------------------+-----------------+------------------+--------------------+-----------+-----------+\n",
      "|       fare_amount|mta_tax|improvement_surcharge|payment_type|RatecodeID|extra|        tip_amount|     tolls_amount|      total_amount|congestion_surcharge|airport_fee|  PaymentID|\n",
      "+------------------+-------+---------------------+------------+----------+-----+------------------+-----------------+------------------+--------------------+-----------+-----------+\n",
      "| 7.900000095367432|    0.5|                  1.0|         1.0|       1.0|  1.0|2.5799999237060547|              0.0|15.479999542236328|                 2.5|       NULL| Y202301290|\n",
      "|              17.0|    0.5|                  1.0|         2.0|       1.0|  1.0|               0.0|              0.0|              22.0|                 2.5|       NULL| Y202301291|\n",
      "| 35.20000076293945|    0.5|                  1.0|         2.0|       1.0|  1.0|               0.0|              0.0| 38.95000076293945|                 0.0|       NULL| Y202301292|\n",
      "|14.199999809265137|    0.5|                  1.0|         1.0|       1.0|  3.5|               1.0|              0.0|20.200000762939453|                 2.5|       NULL| Y202301293|\n",
      "|19.799999237060547|    0.5|                  1.0|         2.0|       1.0|  3.5|               0.0|              0.0|24.799999237060547|                 2.5|       NULL| Y202301294|\n",
      "| 8.600000381469727|    0.5|                  1.0|         1.0|       1.0|  1.0|1.3600000143051147|              0.0|14.960000038146973|                 2.5|       NULL| Y202301295|\n",
      "|16.299999237060547|    0.5|                  1.0|         1.0|       1.0|  0.0|               2.0|              0.0|22.299999237060547|                 2.5|       NULL| Y202301296|\n",
      "|23.299999237060547|    0.5|                  1.0|         2.0|       1.0|  3.5|               0.0|              0.0|28.299999237060547|                 2.5|       NULL| Y202301297|\n",
      "| 5.800000190734863|    0.5|                  1.0|         1.0|       1.0|  1.0|               2.5|              0.0|10.800000190734863|                 0.0|       NULL| Y202301298|\n",
      "|              13.5|    0.5|                  1.0|         1.0|       1.0|  1.0| 4.070000171661377|              0.0| 22.56999969482422|                 2.5|       NULL| Y202301299|\n",
      "| 49.20000076293945|    0.5|                  1.0|         1.0|       1.0|  3.5|               0.0|6.550000190734863|             60.75|                 2.5|       NULL|Y2023012910|\n",
      "|              10.0|    0.5|                  1.0|         1.0|       1.0|  1.0|               2.5|              0.0|              17.5|                 2.5|       NULL|Y2023012911|\n",
      "| 45.70000076293945|    0.5|                  1.0|         1.0|       1.0|  3.5|               0.0|6.550000190734863|             57.25|                 2.5|       NULL|Y2023012912|\n",
      "|              75.0|    0.0|                  1.0|         1.0|       5.0|  0.0|              19.0|              0.0|              95.0|                 0.0|       NULL|Y2023012913|\n",
      "|              25.0|    0.0|                  1.0|         1.0|       5.0|  0.0|               0.0|              0.0|              26.0|                 0.0|       NULL|Y2023012914|\n",
      "| 9.300000190734863|    0.5|                  1.0|         1.0|       1.0|  1.0|1.2000000476837158|              0.0|              15.5|                 2.5|       NULL|Y2023012915|\n",
      "| 44.29999923706055|    0.5|                  1.0|         1.0|       1.0|  1.0|               3.0|              0.0| 52.29999923706055|                 2.5|       NULL|Y2023012916|\n",
      "|11.399999618530273|    0.5|                  1.0|         1.0|       1.0|  1.0|1.1100000143051147|              0.0|17.510000228881836|                 2.5|       NULL|Y2023012917|\n",
      "| 4.400000095367432|    0.5|                  1.0|         1.0|       1.0|  2.5|2.0999999046325684|              0.0|              10.5|                 2.5|       NULL|Y2023012918|\n",
      "|10.699999809265137|    0.5|                  1.0|         1.0|       1.0|  0.0| 4.409999847412109|              0.0|19.110000610351562|                 2.5|       NULL|Y2023012919|\n",
      "+------------------+-------+---------------------+------------+----------+-----+------------------+-----------------+------------------+--------------------+-----------+-----------+\n",
      "only showing top 20 rows\n",
      "\n"
     ]
    }
   ],
   "source": [
    "jdbcDF.show()"
   ]
  },
  {
   "cell_type": "code",
   "execution_count": 8,
   "metadata": {},
   "outputs": [],
   "source": [
    "POSTGRES_HOST = \"localhost\"\n",
    "POSTGRES_PORT = 5432\n",
    "POSTGRES_DB = \"trip_record\"\n",
    "POSTGRES_USER = \"admin\"\n",
    "POSTGRES_PASSWORD = \"admin123\"\n",
    "df.write \\\n",
    "    .format(\"jdbc\") \\\n",
    "    .option(\"url\", f\"jdbc:postgresql://{POSTGRES_HOST}:{POSTGRES_PORT}/{POSTGRES_DB}\") \\\n",
    "    .option(\"dbtable\", \"public.test\") \\\n",
    "    .option(\"user\", POSTGRES_USER) \\\n",
    "    .option(\"password\", POSTGRES_PASSWORD) \\\n",
    "    .save()"
   ]
  },
  {
   "cell_type": "code",
   "execution_count": 26,
   "metadata": {},
   "outputs": [
    {
     "name": "stdout",
     "output_type": "stream",
     "text": [
      "0\n",
      "0\n",
      "0\n",
      "0\n"
     ]
    }
   ],
   "source": [
    "df = (\n",
    "        spark.read.format(\"parquet\")\n",
    "        .options(header=True, inferSchema=False)\n",
    "        .load(\"/home/trung/Downloads/a/green_tripdata_2023-02.parquet\")\n",
    "    )\n",
    "# count row have tpep_pickup_datetime null\n",
    "print(df.filter(df.lpep_pickup_datetime.isNull()).count())\n",
    "# count row have tpep_dropoff_datetime null\n",
    "print(df.filter(df.lpep_dropoff_datetime.isNull()).count())\n",
    "# count row have PULocationID null\n",
    "print(df.filter(df.PULocationID.isNull()).count())\n",
    "# count row have DOLocationID null\n",
    "print(df.filter(df.DOLocationID.isNull()).count())"
   ]
  },
  {
   "cell_type": "code",
   "execution_count": 22,
   "metadata": {},
   "outputs": [
    {
     "data": {
      "text/plain": [
       "2913955"
      ]
     },
     "execution_count": 22,
     "metadata": {},
     "output_type": "execute_result"
    }
   ],
   "source": [
    "df.count()"
   ]
  },
  {
   "cell_type": "code",
   "execution_count": 19,
   "metadata": {},
   "outputs": [
    {
     "name": "stdout",
     "output_type": "stream",
     "text": [
      "0\n",
      "0\n",
      "1110797\n"
     ]
    }
   ],
   "source": [
    "# count row have dispatching_base_num null\n",
    "print(df.filter(df.dispatching_base_num.isNull()).count())\n",
    "# count row have affiliated_base_number null\n",
    "print(df.filter(df.Affiliated_base_number.isNull()).count())\n",
    "# count row have sr_flag null\n",
    "print(df.filter(df.SR_Flag.isNull()).count())"
   ]
  },
  {
   "cell_type": "code",
   "execution_count": 29,
   "metadata": {},
   "outputs": [
    {
     "name": "stdout",
     "output_type": "stream",
     "text": [
      "4821\n",
      "0\n",
      "4821\n",
      "4826\n",
      "0\n"
     ]
    }
   ],
   "source": [
    "# count row have passenger_count null\n",
    "print(df.filter(df.passenger_count.isNull()).count())\n",
    "# count row have trip_distance null\n",
    "print(df.filter(df.trip_distance.isNull()).count())\n",
    "# count row have store_and_fwd_flag null\n",
    "print(df.filter(df.store_and_fwd_flag.isNull()).count())\n",
    "# count row have trip_type null\n",
    "print(df.filter(df.trip_type.isNull()).count())\n",
    "# count row have VendorID null\n",
    "print(df.filter(df.VendorID.isNull()).count())\n"
   ]
  },
  {
   "cell_type": "markdown",
   "metadata": {},
   "source": [
    "passenger count, store_and_fwd_flag"
   ]
  },
  {
   "cell_type": "code",
   "execution_count": 28,
   "metadata": {},
   "outputs": [
    {
     "name": "stdout",
     "output_type": "stream",
     "text": [
      "0\n",
      "0\n",
      "0\n",
      "4821\n",
      "4821\n",
      "0\n",
      "0\n",
      "0\n",
      "4821\n"
     ]
    }
   ],
   "source": [
    "# count row have fare_amount null\n",
    "print(df.filter(df.fare_amount.isNull()).count())\n",
    "# count row have mta_tax null\n",
    "print(df.filter(df.mta_tax.isNull()).count())\n",
    "# count row have improvement_surcharge null\n",
    "print(df.filter(df.improvement_surcharge.isNull()).count())\n",
    "# count row have payment_type null\n",
    "print(df.filter(df.payment_type.isNull()).count())\n",
    "# count row have RatecodeID null\n",
    "print(df.filter(df.RatecodeID.isNull()).count())\n",
    "# count row have tip_amount null\n",
    "print(df.filter(df.tip_amount.isNull()).count())\n",
    "# count row have tolls_amount null\n",
    "print(df.filter(df.tolls_amount.isNull()).count())\n",
    "# count row have total_amount null\n",
    "print(df.filter(df.total_amount.isNull()).count())\n",
    "# count row have congestion_surcharge null\n",
    "print(df.filter(df.congestion_surcharge.isNull()).count())\n",
    "\n"
   ]
  },
  {
   "cell_type": "markdown",
   "metadata": {},
   "source": [
    "payment_type, RatecodeID, congestion_surcharge"
   ]
  },
  {
   "cell_type": "code",
   "execution_count": 9,
   "metadata": {},
   "outputs": [
    {
     "name": "stdout",
     "output_type": "stream",
     "text": [
      "17273410\n"
     ]
    },
    {
     "data": {
      "text/plain": [
       "2914436"
      ]
     },
     "execution_count": 9,
     "metadata": {},
     "output_type": "execute_result"
    }
   ],
   "source": [
    "df = (\n",
    "        spark.read.format(\"parquet\")\n",
    "        .options(header=True, inferSchema=False)\n",
    "        # .schema(trip_schema)\n",
    "        .load(\"/home/trung/Downloads/gold_pickup\")\n",
    "    )\n",
    "#print count null row in PULocationID\n",
    "print(df.count())\n",
    "df.filter(df.PULocationID.isNull()).count()"
   ]
  },
  {
   "cell_type": "code",
   "execution_count": 29,
   "metadata": {},
   "outputs": [],
   "source": [
    "gdo = (\n",
    "    spark.read.format(\"parquet\")\n",
    "    .options(header=True, inferSchema=False)\n",
    "    .load(\"/home/trung/Downloads/gold_dropoff\")\n",
    ")"
   ]
  },
  {
   "cell_type": "code",
   "execution_count": 28,
   "metadata": {},
   "outputs": [
    {
     "name": "stdout",
     "output_type": "stream",
     "text": [
      "+----------+------------------+------------------+\n",
      "|LocationID|         longitude|          latitude|\n",
      "+----------+------------------+------------------+\n",
      "|         1|-74.17400156582248| 40.69183016020959|\n",
      "|         2|-73.83129979354713| 40.61674619937379|\n",
      "|         3| -73.8474217852696| 40.86447372906584|\n",
      "|         4|-73.97696827424141| 40.72375208451233|\n",
      "|         5|-74.18848459794721| 40.55265878064343|\n",
      "|         6|-74.07177024696533|40.600324409468406|\n",
      "|         7|-73.91969433569462|40.761492617043125|\n",
      "|         8|-73.92308626324494| 40.77855862576789|\n",
      "|         9|-73.78794875477833| 40.75103435668664|\n",
      "|        10|-73.79098676199028| 40.67895308442328|\n",
      "|        11|-74.00748784386448| 40.60427268170344|\n",
      "|        12|-74.01556349991374| 40.70294582144012|\n",
      "|        13|-74.01607927269924|40.712037924667264|\n",
      "|        14|    -74.0298925099| 40.62483367229869|\n",
      "|        15|-73.78597285841018|  40.7833330046879|\n",
      "|        16|-73.77342112932584| 40.76273753216493|\n",
      "|        17|-73.94990480444068| 40.69150702161197|\n",
      "|        18|-73.89018381164814| 40.86768222238494|\n",
      "|        19|-73.72665540152784| 40.73548651046706|\n",
      "|        20|-73.88586744911127|40.857779440562844|\n",
      "+----------+------------------+------------------+\n",
      "only showing top 20 rows\n",
      "\n"
     ]
    }
   ],
   "source": [
    "kdvd =(\n",
    "    spark.read.format(\"parquet\")\n",
    "    .options(header=True, inferSchema=False)\n",
    "    .load(\"/home/trung/Downloads/taxi_zones.parquet\")\n",
    ")\n",
    "kdvd.show()"
   ]
  },
  {
   "cell_type": "code",
   "execution_count": 35,
   "metadata": {},
   "outputs": [
    {
     "name": "stdout",
     "output_type": "stream",
     "text": [
      "+-------------------+------------+--------------------+\n",
      "|   Dropoff_datetime|DOLocationID|           DropOffID|\n",
      "+-------------------+------------+--------------------+\n",
      "|2023-01-22 07:49:01|          75|Y2023012225769803776|\n",
      "|2023-01-22 07:56:41|         236|Y2023012225769803777|\n",
      "|2023-01-22 07:54:23|         143|Y2023012225769803778|\n",
      "|2023-01-22 07:56:39|          42|Y2023012225769803779|\n",
      "|2023-01-22 07:31:54|          79|Y2023012225769803780|\n",
      "|2023-01-22 07:51:12|         144|Y2023012225769803781|\n",
      "|2023-01-22 07:06:24|         151|Y2023012225769803782|\n",
      "|2023-01-22 07:56:49|          48|Y2023012225769803783|\n",
      "|2023-01-22 07:42:28|         262|Y2023012225769803784|\n",
      "|2023-01-22 07:52:45|         158|Y2023012225769803785|\n",
      "|2023-01-22 07:12:28|         246|Y2023012225769803786|\n",
      "|2023-01-22 07:52:17|         143|Y2023012225769803787|\n",
      "|2023-01-22 08:04:53|          90|Y2023012225769803788|\n",
      "|2023-01-22 07:27:46|          50|Y2023012225769803789|\n",
      "|2023-01-22 07:25:06|         151|Y2023012225769803790|\n",
      "|2023-01-22 08:27:55|          36|Y2023012225769803791|\n",
      "|2023-01-22 07:41:13|         249|Y2023012225769803792|\n",
      "|2023-01-22 07:23:02|         142|Y2023012225769803793|\n",
      "|2023-01-22 08:04:12|         125|Y2023012225769803794|\n",
      "|2023-01-22 07:47:43|         249|Y2023012225769803795|\n",
      "+-------------------+------------+--------------------+\n",
      "only showing top 20 rows\n",
      "\n"
     ]
    }
   ],
   "source": [
    "gdo.join(kdvd, gdo.DOLocationID == kdvd.LocationID, \"left\").drop(kdvd.LocationID)\n",
    "gdo = gdo.withColumn(\"DOLocationID\", gdo[\"DOLocationID\"].cast(\"int\"))\n",
    "gdo.show()"
   ]
  },
  {
   "cell_type": "code",
   "execution_count": null,
   "metadata": {},
   "outputs": [],
   "source": []
  }
 ],
 "metadata": {
  "kernelspec": {
   "display_name": "DataE",
   "language": "python",
   "name": "python3"
  },
  "language_info": {
   "codemirror_mode": {
    "name": "ipython",
    "version": 3
   },
   "file_extension": ".py",
   "mimetype": "text/x-python",
   "name": "python",
   "nbconvert_exporter": "python",
   "pygments_lexer": "ipython3",
   "version": "3.9.17"
  },
  "orig_nbformat": 4
 },
 "nbformat": 4,
 "nbformat_minor": 2
}
