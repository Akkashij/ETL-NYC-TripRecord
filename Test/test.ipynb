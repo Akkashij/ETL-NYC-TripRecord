{
 "cells": [
  {
   "cell_type": "code",
   "execution_count": 2,
   "metadata": {},
   "outputs": [],
   "source": [
    "from pyspark.sql import SparkSession, DataFrame"
   ]
  },
  {
   "cell_type": "code",
   "execution_count": 3,
   "metadata": {},
   "outputs": [
    {
     "name": "stderr",
     "output_type": "stream",
     "text": [
      "23/12/18 23:50:58 WARN Utils: Your hostname, TrungUbun resolves to a loopback address: 127.0.1.1; using 192.168.1.6 instead (on interface enp3s0)\n",
      "23/12/18 23:50:58 WARN Utils: Set SPARK_LOCAL_IP if you need to bind to another address\n",
      "Setting default log level to \"WARN\".\n",
      "To adjust logging level use sc.setLogLevel(newLevel). For SparkR, use setLogLevel(newLevel).\n",
      "23/12/18 23:50:58 WARN NativeCodeLoader: Unable to load native-hadoop library for your platform... using builtin-java classes where applicable\n",
      "23/12/18 23:51:00 WARN Utils: Service 'SparkUI' could not bind on port 4040. Attempting port 4041.\n"
     ]
    }
   ],
   "source": [
    "spark = (\n",
    "            SparkSession.builder.master(\"local[*]\")\n",
    "            .appName(\"SparkByExamples.com\")\n",
    "            .getOrCreate()\n",
    ")"
   ]
  },
  {
   "cell_type": "code",
   "execution_count": 16,
   "metadata": {},
   "outputs": [
    {
     "name": "stdout",
     "output_type": "stream",
     "text": [
      "+-------------------+-------------------+--------------------+----------------------+-------+\n",
      "|           PickUpID|          DropOffID|dispatching_base_num|affiliated_base_number|sr_flag|\n",
      "+-------------------+-------------------+--------------------+----------------------+-------+\n",
      "|               NULL|F202301078589973310|              B02855|                B02855|       |\n",
      "|               NULL|               NULL|              B02868|                B03406|       |\n",
      "|               NULL|               NULL|              B02868|                B02868|       |\n",
      "|               NULL|               NULL|              B02868|                B02868|       |\n",
      "|F202301078589968436|F202301078589994659|              B02881|                B02881|       |\n",
      "|     F2023010726253|F202301078589975087|              B02881|                B02881|       |\n",
      "|F202301078589973248|     F2023010732897|              B02881|                B02881|       |\n",
      "|F202301078589987408|F202301078589986598|              B02881|                B02881|       |\n",
      "|F202301078589978264|     F2023010726979|              B02881|                B02881|       |\n",
      "|     F2023010743851|F202301078589980592|              B02881|                B02881|       |\n",
      "|F202301078589978265|F202301078590003395|              B02881|                B02881|       |\n",
      "|F202301078589978996|F202301078589997607|              B02881|                B02881|       |\n",
      "|F202301078589975599|F202301078589997892|              B02881|                B02881|       |\n",
      "|     F2023010744632|F202301078589994660|              B02881|                B02881|       |\n",
      "|F202301078589977340|F202301078589994073|              B02881|                B02881|       |\n",
      "|     F2023010733435|     F2023010727298|              B02881|                B02881|       |\n",
      "|F202301078589988115|     F2023010729073|              B02881|                B02881|       |\n",
      "|     F2023010730456|F202301078589991477|              B02881|                B02881|       |\n",
      "|F202301078589971112|     F2023010735596|              B02881|                B02881|       |\n",
      "|F202301078589972986|     F2023010724943|              B02881|                B02881|       |\n",
      "+-------------------+-------------------+--------------------+----------------------+-------+\n",
      "only showing top 20 rows\n",
      "\n"
     ]
    }
   ],
   "source": [
    "df = (\n",
    "        spark.read.format(\"parquet\")\n",
    "        .options(header=True, inferSchema=False)\n",
    "        # .schema(trip_schema)\n",
    "        .load(\"/home/trung/Downloads/gold_fhv_info\")\n",
    "    )\n",
    "df."
   ]
  }
 ],
 "metadata": {
  "kernelspec": {
   "display_name": "DataE",
   "language": "python",
   "name": "python3"
  },
  "language_info": {
   "codemirror_mode": {
    "name": "ipython",
    "version": 3
   },
   "file_extension": ".py",
   "mimetype": "text/x-python",
   "name": "python",
   "nbconvert_exporter": "python",
   "pygments_lexer": "ipython3",
   "version": "3.9.17"
  },
  "orig_nbformat": 4
 },
 "nbformat": 4,
 "nbformat_minor": 2
}
